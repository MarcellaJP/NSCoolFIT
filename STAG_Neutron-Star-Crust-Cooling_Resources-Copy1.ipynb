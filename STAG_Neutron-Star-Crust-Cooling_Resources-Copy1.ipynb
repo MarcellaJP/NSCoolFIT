{
 "cells": [
  {
   "cell_type": "markdown",
   "metadata": {},
   "source": [
    "<h1 align='center'>Neutron Stars - Want to know more?</h1>\n",
    "<h5 align='center'> Extra material for the poster presented at <a href='https://www.southampton.ac.uk/stag/news/events/2017/11/8-stag-lecture.page'>the STAG public lecture 2017</a> <br>Marcella Wijngaarden <br>08/07/2017</h5>\n",
    "\n",
    "Hi! Very nice that you are interested in neutron stars. On this page you can find some links to interesting resources with more information. If you have any questions or would like to know even more? Send me a message at <a href='mailto:M.J.P.Wijngaarden@soton.ac.uk'>M.J.P.Wijngaarden@soton.ac.uk</a>.\n",
    "\n",
    "<h4>How big is a neutron star?</h4>\n",
    "\n",
    "In the picture below you can see that the neutron star is only about the size of Southampton! It is incredibly dense as it contains more matter than the Sun.\n",
    "\n",
    "<i>Image credits: Rudy Wijnands (Anton Pannekoek Institute for Astronomy/University of Amsterdam)</i>\n",
    "<img src=\"NS_UK-NL-large_Southampton_credits.jpg\" style=\"max-height: 500px;\">\n",
    "\n",
    "<h4>Neutron stars are weird!</h4>\n",
    "\n",
    "Check out this ~2 minute video to learn about more reasons why neutron stars are such weird and interesting objects. \n",
    "\n",
    "<i>Credits: Anna Watts (Anton Pannekoek Institute for Astronomy/University of Amsterdam)</i>"
   ]
  },
  {
   "cell_type": "code",
   "execution_count": 3,
   "metadata": {
    "collapsed": false
   },
   "outputs": [
    {
     "data": {
      "text/html": [
       "<iframe width=\"560\" height=\"315\" src=\"https://www.youtube.com/embed/6QS-I11hv1E\" frameborder=\"0\" allowfullscreen></iframe>"
      ],
      "text/plain": [
       "<IPython.core.display.HTML object>"
      ]
     },
     "execution_count": 3,
     "metadata": {},
     "output_type": "execute_result"
    }
   ],
   "source": [
    "from IPython.display import HTML\n",
    "HTML('<iframe width=\"560\" height=\"315\" src=\"https://www.youtube.com/embed/6QS-I11hv1E\" frameborder=\"0\" allowfullscreen></iframe>')"
   ]
  },
  {
   "cell_type": "markdown",
   "metadata": {},
   "source": [
    "<strong>Fun facts</strong>\n",
    "<p>Looking for more reasons why neutron stars are interesting? Check out this list:<br?\n",
    "<a href='https://insidetheperimeter.ca/neutron-stars-are-awesome-and-here-are-lots-of-reasons-why/'>https://insidetheperimeter.ca/neutron-stars-are-awesome-and-here-are-lots-of-reasons-why/</a></p>\n",
    "\n",
    "<strong>What is inside a neutron star?</strong>\n",
    "<p>If you would like to know more about what type of matter could be inside neutron stars? Check out this article: <br><a href='https://www.quantamagazine.org/squishy-or-solid-a-neutron-stars-insides-open-to-debate-20171030/'>https://www.quantamagazine.org/squishy-or-solid-a-neutron-stars-insides-open-to-debate-20171030/</a>.</p>\n",
    "\n",
    "<strong>Gravitational waves from merging neutron stars</strong>\n",
    "\n",
    "<i>Credits: Artist impression by NASA</i>"
   ]
  },
  {
   "cell_type": "code",
   "execution_count": 4,
   "metadata": {
    "collapsed": false
   },
   "outputs": [
    {
     "data": {
      "text/html": [
       "<iframe width=\"560\" height=\"315\" src=\"https://www.youtube.com/embed/x_Akn8fUBeQ\" frameborder=\"0\" allowfullscreen></iframe>"
      ],
      "text/plain": [
       "<IPython.core.display.HTML object>"
      ]
     },
     "execution_count": 4,
     "metadata": {},
     "output_type": "execute_result"
    }
   ],
   "source": [
    "HTML('<iframe width=\"560\" height=\"315\" src=\"https://www.youtube.com/embed/x_Akn8fUBeQ\" frameborder=\"0\" allowfullscreen></iframe>')"
   ]
  },
  {
   "cell_type": "markdown",
   "metadata": {},
   "source": [
    "<p>In the video below LIGO & Univeristy of Southampton scientist Emma Osborne explains the detection of the neutron star merger and why this is such an extraordinary event!</p>\n",
    "<p><i>Credits: <a href='http://emmalouiseosborne.com'>Emma Osborne</a> | <a href='https://www.youtube.com/channel/UC_2MM6tCMKWCj-AnvjIhJtw'>The Extraordinary Universe</a></i></p>"
   ]
  },
  {
   "cell_type": "code",
   "execution_count": 6,
   "metadata": {
    "collapsed": false
   },
   "outputs": [
    {
     "data": {
      "text/html": [
       "<iframe width=\"560\" height=\"315\" src=\"https://www.youtube.com/embed/cUwg7sSLDwY\" frameborder=\"0\" allowfullscreen></iframe>"
      ],
      "text/plain": [
       "<IPython.core.display.HTML object>"
      ]
     },
     "execution_count": 6,
     "metadata": {},
     "output_type": "execute_result"
    }
   ],
   "source": [
    "HTML('<iframe width=\"560\" height=\"315\" src=\"https://www.youtube.com/embed/cUwg7sSLDwY\" frameborder=\"0\" allowfullscreen></iframe>')"
   ]
  },
  {
   "cell_type": "markdown",
   "metadata": {},
   "source": [
    "<strong>Want do get involved in neutron star/gravitational wave research? You can!</strong>\n",
    "\n",
    "You can participate in the <a href='https://einsteinathome.org/nl/home'>Einstein@Home</a> project and search for gravitational wave signals using your computer."
   ]
  },
  {
   "cell_type": "code",
   "execution_count": null,
   "metadata": {
    "collapsed": true
   },
   "outputs": [],
   "source": []
  }
 ],
 "metadata": {
  "anaconda-cloud": {},
  "kernelspec": {
   "display_name": "Python [conda root]",
   "language": "python",
   "name": "conda-root-py"
  },
  "language_info": {
   "codemirror_mode": {
    "name": "ipython",
    "version": 2
   },
   "file_extension": ".py",
   "mimetype": "text/x-python",
   "name": "python",
   "nbconvert_exporter": "python",
   "pygments_lexer": "ipython2",
   "version": "2.7.12"
  }
 },
 "nbformat": 4,
 "nbformat_minor": 1
}
